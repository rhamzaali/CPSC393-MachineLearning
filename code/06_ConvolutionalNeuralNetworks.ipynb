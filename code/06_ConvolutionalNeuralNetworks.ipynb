{
 "cells": [
  {
   "cell_type": "code",
   "execution_count": 1,
   "id": "a53f06ad",
   "metadata": {},
   "outputs": [],
   "source": [
    "# loading libraries for data manipulation\n",
    "import numpy as np\n",
    "import pandas as pd\n",
    "\n",
    "# loading libraries for data visualization\n",
    "import matplotlib.pyplot as plt\n",
    "from plotnine import *\n",
    "\n",
    "# import tensorflow and keras packages\n",
    "import tensorflow as tf\n",
    "from tensorflow import keras\n",
    "\n",
    "import warnings\n",
    "warnings.filterwarnings('ignore')"
   ]
  },
  {
   "cell_type": "markdown",
   "id": "9395c0d3",
   "metadata": {},
   "source": [
    "We will load the MNIST data again."
   ]
  },
  {
   "cell_type": "code",
   "execution_count": 2,
   "id": "5efc79f7",
   "metadata": {},
   "outputs": [],
   "source": [
    "# Load MNIST data from keras.datasets\n",
    "(X_train_mnist, y_train_mnist), (X_test_mnist, y_test_mnist) = keras.datasets.mnist.load_data()\n",
    "\n",
    "X_train_mnist = X_train_mnist.reshape(-1, 28*28).astype('float32') / 255.0\n",
    "X_test_mnist = X_test_mnist.reshape(-1, 28*28).astype('float32') / 255.0\n",
    "\n",
    "# Convert y labels to one-hot encoded vectors\n",
    "y_train_mnist = keras.utils.to_categorical(y_train_mnist, num_classes=10)\n",
    "y_test_mnist = keras.utils.to_categorical(y_test_mnist, num_classes=10)\n",
    "\n"
   ]
  },
  {
   "cell_type": "markdown",
   "id": "d07aadb1",
   "metadata": {},
   "source": [
    "Let's first build a deep neural network to classify digits without any regularization"
   ]
  },
  {
   "cell_type": "code",
   "execution_count": 3,
   "id": "16a86e66",
   "metadata": {},
   "outputs": [
    {
     "name": "stdout",
     "output_type": "stream",
     "text": [
      "Epoch 1/5\n",
      "\u001b[1m469/469\u001b[0m \u001b[32m━━━━━━━━━━━━━━━━━━━━\u001b[0m\u001b[37m\u001b[0m \u001b[1m2s\u001b[0m 2ms/step - accuracy: 0.9060 - loss: 0.3130 - val_accuracy: 0.9615 - val_loss: 0.1259\n",
      "Epoch 2/5\n",
      "\u001b[1m469/469\u001b[0m \u001b[32m━━━━━━━━━━━━━━━━━━━━\u001b[0m\u001b[37m\u001b[0m \u001b[1m1s\u001b[0m 2ms/step - accuracy: 0.9602 - loss: 0.1289 - val_accuracy: 0.9672 - val_loss: 0.1012\n",
      "Epoch 3/5\n",
      "\u001b[1m469/469\u001b[0m \u001b[32m━━━━━━━━━━━━━━━━━━━━\u001b[0m\u001b[37m\u001b[0m \u001b[1m1s\u001b[0m 2ms/step - accuracy: 0.9717 - loss: 0.0918 - val_accuracy: 0.9749 - val_loss: 0.0785\n",
      "Epoch 4/5\n",
      "\u001b[1m469/469\u001b[0m \u001b[32m━━━━━━━━━━━━━━━━━━━━\u001b[0m\u001b[37m\u001b[0m \u001b[1m1s\u001b[0m 2ms/step - accuracy: 0.9779 - loss: 0.0719 - val_accuracy: 0.9775 - val_loss: 0.0697\n",
      "Epoch 5/5\n",
      "\u001b[1m469/469\u001b[0m \u001b[32m━━━━━━━━━━━━━━━━━━━━\u001b[0m\u001b[37m\u001b[0m \u001b[1m1s\u001b[0m 2ms/step - accuracy: 0.9811 - loss: 0.0600 - val_accuracy: 0.9794 - val_loss: 0.0655\n"
     ]
    },
    {
     "data": {
      "text/plain": [
       "<keras.src.callbacks.history.History at 0x16a3ed940>"
      ]
     },
     "execution_count": 3,
     "metadata": {},
     "output_type": "execute_result"
    }
   ],
   "source": [
    "model = keras.Sequential([\n",
    "        keras.layers.Dense(256,activation='relu',input_shape=(784,)),\n",
    "        keras.layers.Dropout(0.2),\n",
    "        keras.layers.Dense(256,activation='relu'),\n",
    "        keras.layers.Dropout(0.2),\n",
    "        keras.layers.Dense(10,activation='softmax') # output layer\n",
    "    ])\n",
    "\n",
    "model.compile(loss=\"categorical_crossentropy\",\n",
    "              optimizer=\"adam\",\n",
    "              metrics=[\"accuracy\"])\n",
    "\n",
    "model.fit(X_train_mnist,y_train_mnist,\n",
    "                           epochs=5,verbose=1,batch_size=128,\n",
    "                           validation_data=(X_test_mnist,y_test_mnist))"
   ]
  },
  {
   "cell_type": "markdown",
   "id": "906fee96",
   "metadata": {},
   "source": [
    "This is a feed forward fully connected neural network. That is, there is a forward pass and a backward pass but all nodes in one layer are connected to all nodes in the next layer. This mechanism is not able to capture any spatial properties in the input data. "
   ]
  },
  {
   "cell_type": "markdown",
   "id": "b413cef0",
   "metadata": {},
   "source": [
    "Now let's train a Convolutional Neural Network. "
   ]
  },
  {
   "cell_type": "markdown",
   "id": "2975ccdf",
   "metadata": {},
   "source": [
    "First we will reload our input data but now in the form of images. We will keep the 28x28 shape of the inputs. Note that the 1 in 28x28x1 indicates the number of channels. Here it is one to indicate grayscale images. "
   ]
  },
  {
   "cell_type": "code",
   "execution_count": 4,
   "id": "2d4db534",
   "metadata": {},
   "outputs": [],
   "source": [
    "(X_train_mnist, y_train_mnist), (X_test_mnist, y_test_mnist) = keras.datasets.mnist.load_data()\n",
    "\n",
    "X_train_mnist = X_train_mnist.reshape(-1, 28,28,1).astype('float32') / 255.0\n",
    "X_test_mnist = X_test_mnist.reshape(-1, 28,28,1).astype('float32') / 255.0\n",
    "\n",
    "# Convert y labels to one-hot encoded vectors\n",
    "y_train_mnist = keras.utils.to_categorical(y_train_mnist, num_classes=10)\n",
    "y_test_mnist = keras.utils.to_categorical(y_test_mnist, num_classes=10)"
   ]
  },
  {
   "cell_type": "markdown",
   "id": "78ada20c",
   "metadata": {},
   "source": [
    "There are some new layers to get familiar with. \n",
    "\n",
    "- Conv2D - convolution layer with filter size, number of filters, stride, and padding\n",
    "- max pooling layer with pool size and stride"
   ]
  },
  {
   "cell_type": "code",
   "execution_count": null,
   "id": "35484ac3",
   "metadata": {},
   "outputs": [],
   "source": [
    "model = keras.Sequential([...])\n",
    "\n",
    "model.compile(loss=\"categorical_crossentropy\",\n",
    "              optimizer=\"adam\",\n",
    "              metrics=[\"accuracy\"])\n",
    "\n",
    "model.fit(X_train_mnist,y_train_mnist,\n",
    "                           epochs=5,verbose=1,batch_size=128,\n",
    "                           validation_data=(X_test_mnist,y_test_mnist))"
   ]
  },
  {
   "cell_type": "markdown",
   "id": "b0ddc351",
   "metadata": {},
   "source": [
    "The model summary will show that there are now stacks of filters being used in the convolution layers, which are then pooled together to further reduce, in the max pooling layers. Note that there are no additional parameters to learn from the pooling layers. "
   ]
  },
  {
   "cell_type": "code",
   "execution_count": null,
   "id": "995c6acc",
   "metadata": {},
   "outputs": [],
   "source": [
    "model.summary()"
   ]
  },
  {
   "cell_type": "markdown",
   "id": "31e6d750",
   "metadata": {},
   "source": [
    "Let's modify the padding and stride values. "
   ]
  },
  {
   "cell_type": "markdown",
   "id": "0b8a0573",
   "metadata": {},
   "source": [
    "- Larger stride values reduces spatial resolution: feature map shrinks faster\n",
    "- Also speeds up training but the network might miss finer details"
   ]
  },
  {
   "cell_type": "markdown",
   "id": "78fae209",
   "metadata": {},
   "source": [
    "- padding = \"same\" retains spatial dimensions, helps detect objects touching the boundaries\n",
    "- Also means you can stack more layers in the network without shrinking features maps too much"
   ]
  },
  {
   "cell_type": "markdown",
   "id": "0e0c6df4",
   "metadata": {},
   "source": [
    "- padding = \"valid\" means no padding: reduces feature map dimensions\n",
    "- Faster but loses edge information"
   ]
  },
  {
   "cell_type": "code",
   "execution_count": null,
   "id": "ea2605b1",
   "metadata": {},
   "outputs": [],
   "source": [
    "model = keras.Sequential([...])\n",
    "\n",
    "model.compile(loss=\"categorical_crossentropy\",\n",
    "              optimizer=\"adam\",\n",
    "              metrics=[\"accuracy\"])\n",
    "\n",
    "model.fit(X_train_mnist,y_train_mnist,\n",
    "                           epochs=5,verbose=1,batch_size=128,\n",
    "                           validation_data=(X_test_mnist,y_test_mnist))"
   ]
  },
  {
   "cell_type": "code",
   "execution_count": null,
   "id": "adbfcaba",
   "metadata": {},
   "outputs": [],
   "source": [
    "model.summary()"
   ]
  },
  {
   "cell_type": "code",
   "execution_count": null,
   "id": "8637d87d",
   "metadata": {},
   "outputs": [],
   "source": [
    "\n",
    "# predict on test data to identify correct and incorrect classifications\n",
    "y_pred_probs = model.predict(X_test_mnist)\n",
    "y_pred = np.argmax(y_pred_probs, axis=1)  # predicted classes\n",
    "y_true = np.argmax(y_test_mnist, axis=1)  # actual classes\n",
    "\n",
    "# separate correct and incorrect predictions\n",
    "correct_indices = np.where(y_pred == y_true)[0]\n",
    "incorrect_indices = np.where(y_pred != y_true)[0]\n",
    "\n",
    "# display up to 9 predictions in each case\n",
    "def show_images(indices, title, n=9):\n",
    "    plt.figure(figsize=(10, 4))\n",
    "    for i, idx in enumerate(indices[:n]):\n",
    "        plt.subplot(1, n, i + 1)\n",
    "        plt.imshow(X_test_mnist[idx].reshape(28, 28), cmap='gray')\n",
    "        plt.title(f\"True: {y_true[idx]}\\nPred: {y_pred[idx]}\")\n",
    "    plt.suptitle(title)\n",
    "    plt.tight_layout()\n",
    "    plt.show()\n",
    "\n",
    "show_images(correct_indices, \"Correct!\")\n",
    "show_images(incorrect_indices, \"Incorrect!\")\n"
   ]
  },
  {
   "cell_type": "markdown",
   "id": "4676c80f",
   "metadata": {},
   "source": [
    "Data Augmentation can be added to increase the training size. "
   ]
  },
  {
   "cell_type": "markdown",
   "id": "ceb5aeb4",
   "metadata": {},
   "source": [
    "We will use the CIFAR10 dataset for this example. This data set contains RGB images from 10 classes: \n",
    "\n",
    "'airplane', 'automobile', 'bird', 'cat', 'deer','dog', 'frog', 'horse', 'ship', 'truck'\n"
   ]
  },
  {
   "cell_type": "code",
   "execution_count": 7,
   "id": "1908b4b4",
   "metadata": {},
   "outputs": [],
   "source": [
    "# load CIFAR10 data directly from keras\n",
    "(X_train, y_train), (X_test, y_test) = keras.datasets.cifar10.load_data()\n",
    "\n",
    "X_train = X_train.astype('float32') / 255.0\n",
    "X_test = X_test.astype('float32') / 255.0"
   ]
  },
  {
   "cell_type": "code",
   "execution_count": 9,
   "id": "1229565f",
   "metadata": {},
   "outputs": [],
   "source": [
    "# apply different types of augmentations\n",
    "# an input image is augmented randomly (within thresholds) for each augmentation type\n",
    "data_augmentation = keras.Sequential([\n",
    "    keras.layers.RandomFlip(\"horizontal\"),\n",
    "    keras.layers.RandomRotation(0.1),\n",
    "    keras.layers.RandomZoom(0.2),\n",
    "    keras.layers.RandomContrast(0.2)\n",
    "])"
   ]
  },
  {
   "cell_type": "markdown",
   "id": "bb29b51b",
   "metadata": {},
   "source": [
    "This code shows an example of how augmentations are generated. Every time an image is passed through the network, it is augmented randomly. Ideally this means that the randomizations ensure that each version of the image the network sees is unique. "
   ]
  },
  {
   "cell_type": "code",
   "execution_count": 12,
   "id": "707f655c",
   "metadata": {},
   "outputs": [
    {
     "data": {
      "image/png": "[encoded data removed]",
      "text/plain": [
       "<Figure size 1000x400 with 8 Axes>"
      ]
     },
     "metadata": {},
     "output_type": "display_data"
    }
   ],
   "source": [
    "sample_img = tf.expand_dims(X_train[8], 0) # augmentation takes a batch of images so we use expand_dims to simulate a batch of 1 image\n",
    "\n",
    "plt.figure(figsize=(10, 4))\n",
    "for i in range(8):\n",
    "    aug_img = data_augmentation(sample_img, training=True)\n",
    "    plt.subplot(2, 4, i + 1)\n",
    "    plt.imshow(aug_img[0])\n",
    "    plt.axis('off')\n",
    "plt.suptitle(\"Augmented versions of X_train[8]\")\n",
    "plt.tight_layout()\n",
    "plt.show()"
   ]
  },
  {
   "cell_type": "markdown",
   "id": "b3bf16fd",
   "metadata": {},
   "source": [
    "Let's incorporate data augmentation into our network. We will also use a functional way of creating network architectures. "
   ]
  },
  {
   "cell_type": "code",
   "execution_count": null,
   "id": "5108c783",
   "metadata": {},
   "outputs": [],
   "source": [
    "# define input layer\n",
    "inputs = keras.Input(shape=(32, 32, 3))\n",
    "\n",
    "# data augmentation (only applied during training)\n",
    "\n",
    "# conv block 1\n",
    "\n",
    "# conv block 2\n",
    "\n",
    "# conv block 3\n",
    "\n",
    "# fully connected layers\n",
    "...\n",
    "outputs = keras.layers.Dense(10, activation='softmax')(x)\n",
    "\n",
    "\n",
    "# create model object\n",
    "model = keras.Model(inputs=inputs, outputs=outputs)\n",
    "\n",
    "# compile model\n",
    "model.compile(optimizer='adam',\n",
    "              loss='sparse_categorical_crossentropy',\n",
    "              metrics=['accuracy'])\n",
    "\n",
    "\n",
    "# fit model\n",
    "model.fit(\n",
    "    X_train, y_train,\n",
    "    epochs=10,\n",
    "    batch_size=64,\n",
    "    validation_data=(X_test, y_test)\n",
    ")\n"
   ]
  },
  {
   "cell_type": "markdown",
   "id": "66655bbf",
   "metadata": {},
   "source": [
    "Let's use the model to predict an image's class"
   ]
  },
  {
   "cell_type": "code",
   "execution_count": null,
   "id": "41ef4a67",
   "metadata": {},
   "outputs": [],
   "source": [
    "class_names = ['airplane', 'automobile', 'bird', 'cat', 'deer','dog', 'frog', 'horse', 'ship', 'truck']\n",
    "\n",
    "img = X_test[10]\n",
    "img_batch = np.expand_dims(img, axis=0)  # shape: (1, 32, 32, 3)\n",
    "\n",
    "pred = model.predict(img_batch)\n",
    "pred_class = np.argmax(pred)\n",
    "\n",
    "plt.imshow(img)\n",
    "plt.title(f\"Predicted: {class_names[pred_class]}\")\n",
    "plt.axis('off')\n",
    "plt.show()"
   ]
  },
  {
   "cell_type": "markdown",
   "id": "a11088d7",
   "metadata": {},
   "source": [
    "We can use the functional method of defining the architecture to extract activation maps. "
   ]
  },
  {
   "cell_type": "code",
   "execution_count": null,
   "id": "9870fc41",
   "metadata": {},
   "outputs": [],
   "source": [
    "# create model for intermediate activations\n",
    "layer_outputs = [layer.output for layer in model.layers if 'conv' in layer.name]\n",
    "activation_model = keras.models.Model(inputs=model.input, outputs=layer_outputs)\n",
    "\n",
    "# get activations by \"predicting\" for each conv layer\n",
    "activations = activation_model.predict(img_batch)\n"
   ]
  },
  {
   "cell_type": "markdown",
   "id": "cf51f303",
   "metadata": {},
   "source": [
    "Function below is designed to generate the first 5 activation maps "
   ]
  },
  {
   "cell_type": "code",
   "execution_count": 15,
   "id": "c37d3dd3",
   "metadata": {},
   "outputs": [],
   "source": [
    "# pass predictions from each layer and layer names to generate heatmap \n",
    "def plot_feature_maps(activations, layer_names, image_index=0, max_channels=5):\n",
    "    for layer_name, activation in zip(layer_names, activations):\n",
    "        num_channels = activation.shape[-1]\n",
    "        size = activation.shape[1]\n",
    "\n",
    "        display_channels = min(max_channels, num_channels)\n",
    "        fig, axes = plt.subplots(1, display_channels, figsize=(15, 5))\n",
    "        fig.suptitle(f'Feature maps from layer: {layer_name}', fontsize=14)\n",
    "\n",
    "        for i in range(display_channels):\n",
    "            ax = axes[i]\n",
    "            ax.matshow(activation[image_index, :, :, i], cmap='viridis') # heatmap generation\n",
    "        plt.show()\n"
   ]
  },
  {
   "cell_type": "code",
   "execution_count": null,
   "id": "2f6bdb75",
   "metadata": {},
   "outputs": [],
   "source": [
    "# get layer names\n",
    "layer_names = [layer.name for layer in model.layers if 'conv' in layer.name]\n",
    "\n",
    "# plot activation maps\n",
    "plot_feature_maps(activations, layer_names) "
   ]
  },
  {
   "cell_type": "markdown",
   "id": "c5b24388",
   "metadata": {},
   "source": [
    "Let's use the same model and input image to generate the Grad-CAM. This Class Activation Map will produce a heatmap on the original image to highlight where the model is \"looking\" when making a prediction - the regions that had the most influence on the predicted class. \n",
    "\n",
    "To do so, \n",
    "- Take an image with a target class and make a prediction through the model.\n",
    "- For the predicted class, compute the gradients of the class score with respect to the feature maps of the convolution layer.\n",
    "- The gradients tell us which spatial locations are important.\n",
    "- We use this information to weigh and combine feature maps to produce a heatmap. \n",
    "- The heatmap is the overlayed on the input image. "
   ]
  },
  {
   "cell_type": "code",
   "execution_count": null,
   "id": "b6199f79",
   "metadata": {},
   "outputs": [],
   "source": [
    "# we will also need the openCV library\n",
    "import cv2\n",
    "\n",
    "# step 1. make a prediction\n",
    "preds = model.predict(img_batch)\n",
    "pred_class = np.argmax(preds[0])\n",
    "print(f\"Predicted class: {pred_class}\")"
   ]
  },
  {
   "cell_type": "code",
   "execution_count": null,
   "id": "b57d5915",
   "metadata": {},
   "outputs": [],
   "source": [
    "# step 2. compute gradient of the class score with respect to the convolution layers\n",
    "# here we will use the last convolution layer\n",
    "last_conv_layer_name = [layer.name for layer in model.layers if 'conv' in layer.name][-1]\n",
    "last_conv_layer = model.get_layer(last_conv_layer_name)\n",
    "\n",
    "# create a model that outputs the last conv layer and predictions\n",
    "# the weights of this layer are already fitted - no need to retrain\n",
    "grad_model = tf.keras.models.Model(\n",
    "    [model.inputs],\n",
    "    [last_conv_layer.output, model.output]\n",
    ")\n",
    "\n",
    "# this tool tracks all computations needed to feed forward an input through the network\n",
    "# so we can ask it later to calculate the gradient for us efficiently\n",
    "with tf.GradientTape() as tape:\n",
    "    conv_outputs, predictions = grad_model(img_batch)\n",
    "    loss = predictions[:, pred_class]\n",
    "\n",
    "# calculate gradient\n",
    "grads = tape.gradient(loss, conv_outputs)\n",
    "\n",
    "# apply global average pooling over gradients\n",
    "pooled_grads = tf.reduce_mean(grads, axis=(0, 1, 2))\n"
   ]
  },
  {
   "cell_type": "code",
   "execution_count": null,
   "id": "28f2c820",
   "metadata": {},
   "outputs": [],
   "source": [
    "# step 3. multiply each channel in the conv output by its gradient importance\n",
    "conv_outputs = conv_outputs[0] # 1,h,w,c into h,w,c\n",
    "heatmap = conv_outputs @ pooled_grads[..., tf.newaxis] # matrix multiplication\n",
    "heatmap = tf.squeeze(heatmap) # h,w\n",
    "\n",
    "# normalize heatmap to [0, 1]\n",
    "heatmap = tf.maximum(heatmap, 0) / tf.reduce_max(heatmap)\n",
    "heatmap = heatmap.numpy()\n",
    "\n",
    "# resize heatmap to match input image\n",
    "heatmap_resized = cv2.resize(heatmap, (32, 32))\n",
    "\n",
    "# convert to RGB\n",
    "image_rgb = np.uint8(255 * img)\n",
    "\n",
    "# apply colormap\n",
    "heatmap_color = cv2.applyColorMap(np.uint8(255 * heatmap_resized), cv2.COLORMAP_JET)\n",
    "superimposed_img = cv2.addWeighted(image_rgb, 0.6, heatmap_color, 0.4, 0)\n"
   ]
  },
  {
   "cell_type": "code",
   "execution_count": null,
   "id": "a3c4bd1c",
   "metadata": {},
   "outputs": [],
   "source": [
    "# step 4. plot heatmap\n",
    "\n",
    "plt.figure(figsize=(12, 4))\n",
    "\n",
    "plt.subplot(1, 3, 1)\n",
    "plt.title(\"Original Image\")\n",
    "plt.imshow(img)\n",
    "plt.axis('off')\n",
    "\n",
    "plt.subplot(1, 3, 2)\n",
    "plt.title(\"Grad-CAM Heatmap\")\n",
    "plt.imshow(heatmap_resized, cmap='jet')\n",
    "plt.axis('off')\n",
    "\n",
    "plt.subplot(1, 3, 3)\n",
    "plt.title(\"Grad-CAM Overlay\")\n",
    "plt.imshow(cv2.cvtColor(superimposed_img, cv2.COLOR_BGR2RGB))\n",
    "plt.axis('off')\n",
    "\n",
    "plt.tight_layout()\n",
    "plt.show()"
   ]
  }
 ],
 "metadata": {
  "kernelspec": {
   "display_name": "Python 3",
   "language": "python",
   "name": "python3"
  },
  "language_info": {
   "codemirror_mode": {
    "name": "ipython",
    "version": 3
   },
   "file_extension": ".py",
   "mimetype": "text/x-python",
   "name": "python",
   "nbconvert_exporter": "python",
   "pygments_lexer": "ipython3",
   "version": "3.13.2"
  }
 },
 "nbformat": 4,
 "nbformat_minor": 5
}
