{
 "cells": [
  {
   "cell_type": "code",
   "execution_count": 1,
   "id": "a53f06ad",
   "metadata": {},
   "outputs": [],
   "source": [
    "# loading libraries for data manipulation\n",
    "import numpy as np\n",
    "import pandas as pd\n",
    "\n",
    "# loading libraries for data visualization\n",
    "import matplotlib.pyplot as plt\n",
    "from plotnine import *\n",
    "\n",
    "# import tensorflow and keras packages\n",
    "import tensorflow as tf\n",
    "from tensorflow import keras\n",
    "\n",
    "import warnings\n",
    "warnings.filterwarnings('ignore')"
   ]
  },
  {
   "cell_type": "markdown",
   "id": "211783fc",
   "metadata": {},
   "source": [
    "Let's create a neural network to classify digits from images. The MNIST digits dataset contains 70K images of digits (0-9). This is not an image-classification neural network!"
   ]
  },
  {
   "cell_type": "code",
   "execution_count": 2,
   "id": "657ee7e7",
   "metadata": {},
   "outputs": [],
   "source": [
    "# Load MNIST data from keras.datasets\n",
    "(X_train_mnist, y_train_mnist), (X_test_mnist, y_test_mnist) = keras.datasets.mnist.load_data()"
   ]
  },
  {
   "cell_type": "code",
   "execution_count": 3,
   "id": "ba3b2518",
   "metadata": {},
   "outputs": [
    {
     "name": "stdout",
     "output_type": "stream",
     "text": [
      "(28, 28)\n"
     ]
    },
    {
     "data": {
      "image/png": "[encoded data removed]",
      "text/plain": [
       "<Figure size 640x480 with 1 Axes>"
      ]
     },
     "metadata": {},
     "output_type": "display_data"
    }
   ],
   "source": [
    "print(X_train_mnist[0].shape)\n",
    "plt.imshow(X_train_mnist[0], cmap='gray')\n",
    "plt.show()"
   ]
  },
  {
   "cell_type": "markdown",
   "id": "f00ac5e8",
   "metadata": {},
   "source": [
    "While each observation is a 28x28 pixel image, it can be converted into a long 1 dimensional vector of greyscale values. "
   ]
  },
  {
   "cell_type": "code",
   "execution_count": 4,
   "id": "dccec7ef",
   "metadata": {},
   "outputs": [
    {
     "name": "stdout",
     "output_type": "stream",
     "text": [
      "(784,)\n"
     ]
    }
   ],
   "source": [
    "# Preprocess: flatten images and normalize pixel values\n",
    "# reshape(-1,28x28) flattens each image into a 1-dimensional vector of length 28*28\n",
    "# the -1 here means all items in the object (no need to specify exact amount)\n",
    "# /255.0 scales a greyscale value between [0-255] into [0-1]  \n",
    "X_train_mnist = X_train_mnist.reshape(-1, 28*28).astype('float32') / 255.0\n",
    "\n",
    "print(X_train_mnist[0].shape)"
   ]
  },
  {
   "cell_type": "markdown",
   "id": "a9d9ebc8",
   "metadata": {},
   "source": [
    "Let's build a deep neural network with 1 hidden layer and a new activation function for the output. The softmax function is used for multi-class classification problems. The output layer has the same number of units as the classes, in this instance 10."
   ]
  },
  {
   "cell_type": "code",
   "execution_count": 5,
   "id": "18882c3c",
   "metadata": {},
   "outputs": [],
   "source": [
    "# define function to construct architecture\n",
    "def create_model():\n",
    "    # fully connected NNet with 1 hidden layer of 128 nodes\n",
    "    model = keras.Sequential([\n",
    "        keras.layers.Dense(128,activation='relu',input_shape=(784,)),\n",
    "        keras.layers.Dense(10,activation='softmax') # output layer\n",
    "    ])\n",
    "\n",
    "    return model"
   ]
  },
  {
   "cell_type": "markdown",
   "id": "75c44dec",
   "metadata": {},
   "source": [
    "We can now define our optimizer. We also need to define a learning rate and initialize our model."
   ]
  },
  {
   "cell_type": "code",
   "execution_count": null,
   "id": "4e94b416",
   "metadata": {},
   "outputs": [],
   "source": [
    "lr = 0.05\n",
    "\n",
    "optimizer_name = 'SGD'\n",
    "optimizer_function = tf.keras.optimizers.SGD(lr)\n",
    "\n",
    "mnist_sgd_02 = ..."
   ]
  },
  {
   "cell_type": "markdown",
   "id": "8472ed65",
   "metadata": {},
   "source": [
    "Now, we will compile and train our model for 5 epochs. The loss function here is sparse_categorical_crossentropy. This is a variation of categorical_crossentropy when the class is a numerical value instead of a one-hot encoded vector. "
   ]
  },
  {
   "cell_type": "code",
   "execution_count": null,
   "id": "ce1093f4",
   "metadata": {},
   "outputs": [],
   "source": [
    "\n",
    "\n",
    "mnist_sgd_02.compile(...)\n",
    "\n",
    "mnist_sgd_02.fit(...)"
   ]
  },
  {
   "cell_type": "markdown",
   "id": "cd6c6a89",
   "metadata": {},
   "source": [
    "### Building blocks of a neural network in Tensorflow/Keras\n"
   ]
  },
  {
   "cell_type": "markdown",
   "id": "6ad17d4f",
   "metadata": {},
   "source": [
    "Let's view the architecture of our model"
   ]
  },
  {
   "cell_type": "code",
   "execution_count": null,
   "id": "facef92e",
   "metadata": {},
   "outputs": [],
   "source": [
    "mnist_sgd_02.summary()"
   ]
  },
  {
   "cell_type": "markdown",
   "id": "b12b84c6",
   "metadata": {},
   "source": [
    "To predict, we load up an image and run it through the model, getting a probability across all classes as a result. "
   ]
  },
  {
   "cell_type": "code",
   "execution_count": null,
   "id": "ab6eb2d2",
   "metadata": {},
   "outputs": [],
   "source": [
    "plt.imshow(X_test_mnist[10], cmap='gray')\n",
    "plt.show()"
   ]
  },
  {
   "cell_type": "code",
   "execution_count": null,
   "id": "9514c282",
   "metadata": {},
   "outputs": [],
   "source": [
    "input_image = X_test_mnist[10].reshape(1, 28*28)/255.0\n",
    "\n",
    "predictions = mnist_sgd_02.predict(input_image)\n",
    "\n",
    "for i in range(10):\n",
    "    print(f\"Probability of digit {i}: {predictions[0][i]:.4f}\") "
   ]
  },
  {
   "cell_type": "markdown",
   "id": "d15190fc",
   "metadata": {},
   "source": [
    "Try different variations of number of hidden layers (and units), epochs, optimizers, and batch sizes. "
   ]
  },
  {
   "cell_type": "markdown",
   "id": "86cb0509",
   "metadata": {},
   "source": [
    "- SGD: tf.keras.optimizers.SGD(learning_rate=lr)\n",
    "- Momentum: tf.keras.optimizers.SGD(learning_rate=lr, momentum=0.9)\n",
    "- AdaGrad: tf.keras.optimizers.Adagrad(learning_rate=lr)\n",
    "- RMSProp: tf.keras.optimizers.RMSprop(learning_rate=lr)\n",
    "- Adam: tf.keras.optimizers.Adam(learning_rate=lr)"
   ]
  },
  {
   "cell_type": "code",
   "execution_count": 9,
   "id": "40eead35",
   "metadata": {},
   "outputs": [],
   "source": [
    "# copy the code we have written and add variations to it"
   ]
  },
  {
   "cell_type": "markdown",
   "id": "d8a9240c",
   "metadata": {},
   "source": [
    "Separately, let's apply all optimizers to the dataset to see differences in training. "
   ]
  },
  {
   "cell_type": "code",
   "execution_count": null,
   "id": "12479a9b",
   "metadata": {},
   "outputs": [],
   "source": [
    "# setting up some variables\n",
    "model_history = {}\n",
    "lr = 0.02\n",
    "\n",
    "# reshaping testing data\n",
    "X_test_mnist = X_test_mnist.reshape(-1, 28*28).astype('float32') / 255.0"
   ]
  },
  {
   "cell_type": "code",
   "execution_count": null,
   "id": "689b1d3f",
   "metadata": {},
   "outputs": [],
   "source": [
    "# dictionary of optimizers\n",
    "optimizers = {'SGD':tf.keras.optimizers.SGD(lr),\n",
    "              'Momentum':tf.keras.optimizers.SGD(learning_rate=lr, momentum=0.9),\n",
    "              'AdaGrad':tf.keras.optimizers.Adagrad(learning_rate=lr),\n",
    "              'RMSProp':tf.keras.optimizers.RMSprop(learning_rate=lr),\n",
    "              'Adam':tf.keras.optimizers.Adam(learning_rate=lr)}\n",
    "\n",
    "# for each optimizer, train a different model\n",
    "for name,func in optimizers.items():\n",
    "    print(f\"\\nTraining with {name}\")\n",
    "    model = create_model()\n",
    "    model.compile(...)\n",
    "    history = model.fit(...)\n",
    "    model_history[name] = history.history"
   ]
  },
  {
   "cell_type": "markdown",
   "id": "e9bc48cb",
   "metadata": {},
   "source": [
    "history retains all recorded information from a model's training include loss and validation accuracies. Let's plot them to compare each optimizer's impact on the model. "
   ]
  },
  {
   "cell_type": "code",
   "execution_count": null,
   "id": "d19c3708",
   "metadata": {},
   "outputs": [],
   "source": [
    "# Loss\n",
    "plt.figure(figsize=(10, 4))\n",
    "for name in model_history:\n",
    "    plt.plot(model_history[name]['loss'], label=f'{name}')\n",
    "plt.title(\"Training Loss\")\n",
    "plt.xlabel(\"Epoch\")\n",
    "plt.ylabel(\"Loss\")\n",
    "plt.legend()\n",
    "plt.show()\n",
    "\n",
    "# Accuracy\n",
    "plt.figure(figsize=(10, 4))\n",
    "for name in model_history:\n",
    "    plt.plot(model_history[name]['val_accuracy'], label=f'{name}')\n",
    "plt.title(\"Validation Accuracy\")\n",
    "plt.xlabel(\"Epoch\")\n",
    "plt.ylabel(\"Accuracy\")\n",
    "plt.legend()\n",
    "plt.show()"
   ]
  }
 ],
 "metadata": {
  "kernelspec": {
   "display_name": "Python 3",
   "language": "python",
   "name": "python3"
  },
  "language_info": {
   "codemirror_mode": {
    "name": "ipython",
    "version": 3
   },
   "file_extension": ".py",
   "mimetype": "text/x-python",
   "name": "python",
   "nbconvert_exporter": "python",
   "pygments_lexer": "ipython3",
   "version": "3.13.2"
  }
 },
 "nbformat": 4,
 "nbformat_minor": 5
}
